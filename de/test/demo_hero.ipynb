{
 "cells": [
  {
   "cell_type": "code",
   "execution_count": 2,
   "id": "massive-strap",
   "metadata": {},
   "outputs": [],
   "source": [
    "from pyspark import SparkContext as sc\n",
    "from pyspark.sql import SparkSession as ss"
   ]
  },
  {
   "cell_type": "code",
   "execution_count": 3,
   "id": "herbal-submission",
   "metadata": {},
   "outputs": [],
   "source": [
    "sc = sc()\n",
    "ss = ss(sc)"
   ]
  },
  {
   "cell_type": "code",
   "execution_count": 4,
   "id": "hawaiian-lending",
   "metadata": {},
   "outputs": [],
   "source": [
    "sup1 = ss.read.csv('file:///etc/dataset/superhero.csv', inferSchema=True, header=True)"
   ]
  },
  {
   "cell_type": "code",
   "execution_count": 6,
   "id": "institutional-sponsorship",
   "metadata": {},
   "outputs": [
    {
     "data": {
      "text/plain": [
       "DataFrame[summary: string, _c0: string, name: string, Gender: string, Eye color: string, Race: string, Hair color: string, Height: string, Publisher: string, Skin color: string, Alignment: string, Weight: string]"
      ]
     },
     "execution_count": 6,
     "metadata": {},
     "output_type": "execute_result"
    }
   ],
   "source": [
    "sup1.describe()"
   ]
  },
  {
   "cell_type": "code",
   "execution_count": 21,
   "id": "medical-charleston",
   "metadata": {},
   "outputs": [],
   "source": [
    "new_df = sup1.withColumnRenamed('Eye color', 'eye_color').withColumnRenamed('Hair color', 'hair_color').withColumnRenamed('Skin color', 'skin_color')"
   ]
  },
  {
   "cell_type": "code",
   "execution_count": 22,
   "id": "demonstrated-legend",
   "metadata": {},
   "outputs": [
    {
     "data": {
      "text/plain": [
       "DataFrame[summary: string, _c0: string, name: string, Gender: string, eye_color: string, Race: string, hair_color: string, Height: string, Publisher: string, skin_color: string, Alignment: string, Weight: string]"
      ]
     },
     "execution_count": 22,
     "metadata": {},
     "output_type": "execute_result"
    }
   ],
   "source": [
    "new_df.describe()"
   ]
  },
  {
   "cell_type": "code",
   "execution_count": 23,
   "id": "finished-setup",
   "metadata": {},
   "outputs": [],
   "source": [
    "new_df.write.parquet('/etc/dataset/superhero.parquet')"
   ]
  },
  {
   "cell_type": "code",
   "execution_count": 24,
   "id": "conscious-robinson",
   "metadata": {},
   "outputs": [],
   "source": [
    "from_parquet = ss.read.parquet('file:///etc/dataset/superhero.parquet')"
   ]
  },
  {
   "cell_type": "code",
   "execution_count": 25,
   "id": "demonstrated-vietnam",
   "metadata": {},
   "outputs": [
    {
     "data": {
      "text/plain": [
       "DataFrame[summary: string, _c0: string, name: string, Gender: string, eye_color: string, Race: string, hair_color: string, Height: string, Publisher: string, skin_color: string, Alignment: string, Weight: string]"
      ]
     },
     "execution_count": 25,
     "metadata": {},
     "output_type": "execute_result"
    }
   ],
   "source": [
    "from_parquet.describe()"
   ]
  },
  {
   "cell_type": "code",
   "execution_count": 28,
   "id": "excess-baltimore",
   "metadata": {},
   "outputs": [
    {
     "data": {
      "text/plain": [
       "['_c0',\n",
       " 'name',\n",
       " 'Gender',\n",
       " 'eye_color',\n",
       " 'Race',\n",
       " 'hair_color',\n",
       " 'Height',\n",
       " 'Publisher',\n",
       " 'skin_color',\n",
       " 'Alignment',\n",
       " 'Weight']"
      ]
     },
     "execution_count": 28,
     "metadata": {},
     "output_type": "execute_result"
    }
   ],
   "source": [
    "from_parquet.columns"
   ]
  },
  {
   "cell_type": "code",
   "execution_count": 29,
   "id": "reasonable-depression",
   "metadata": {},
   "outputs": [],
   "source": [
    "for column in from_parquet.columns:\n",
    "    from_parquet = from_parquet.withColumnRenamed(column, column.lower().replace(' ', '_'))"
   ]
  },
  {
   "cell_type": "code",
   "execution_count": 30,
   "id": "exterior-merchant",
   "metadata": {},
   "outputs": [
    {
     "data": {
      "text/plain": [
       "DataFrame[summary: string, _c0: string, name: string, gender: string, eye_color: string, race: string, hair_color: string, height: string, publisher: string, skin_color: string, alignment: string, weight: string]"
      ]
     },
     "execution_count": 30,
     "metadata": {},
     "output_type": "execute_result"
    }
   ],
   "source": [
    "from_parquet.describe()"
   ]
  },
  {
   "cell_type": "code",
   "execution_count": 36,
   "id": "noticed-instrument",
   "metadata": {},
   "outputs": [],
   "source": [
    "from pyspark.ml.feature import StringIndexer"
   ]
  },
  {
   "cell_type": "code",
   "execution_count": 31,
   "id": "sustained-seattle",
   "metadata": {},
   "outputs": [],
   "source": [
    "from pyspark.ml.feature import OneHotEncoder"
   ]
  },
  {
   "cell_type": "code",
   "execution_count": 37,
   "id": "quantitative-arbitration",
   "metadata": {},
   "outputs": [],
   "source": [
    "to_parse = ['gender', 'eye_color', 'race', 'hair_color', 'publisher', 'skin_color', 'alignment']"
   ]
  },
  {
   "cell_type": "code",
   "execution_count": 44,
   "id": "widespread-simple",
   "metadata": {},
   "outputs": [],
   "source": [
    "from_parquet = from_parquet.dropna()"
   ]
  },
  {
   "cell_type": "code",
   "execution_count": 45,
   "id": "north-ancient",
   "metadata": {},
   "outputs": [],
   "source": [
    "indexer = StringIndexer(inputCols=to_parse, outputCols=list(map(lambda x: x+'index', to_parse)))"
   ]
  },
  {
   "cell_type": "code",
   "execution_count": 46,
   "id": "indian-revelation",
   "metadata": {},
   "outputs": [],
   "source": [
    "indexed = indexer.fit(from_parquet).transform(from_parquet)"
   ]
  },
  {
   "cell_type": "code",
   "execution_count": 47,
   "id": "environmental-medium",
   "metadata": {},
   "outputs": [
    {
     "data": {
      "text/plain": [
       "DataFrame[summary: string, _c0: string, name: string, gender: string, eye_color: string, race: string, hair_color: string, height: string, publisher: string, skin_color: string, alignment: string, weight: string, genderindex: string, hair_colorindex: string, skin_colorindex: string, raceindex: string, eye_colorindex: string, publisherindex: string, alignmentindex: string]"
      ]
     },
     "execution_count": 47,
     "metadata": {},
     "output_type": "execute_result"
    }
   ],
   "source": [
    "indexed.describe()"
   ]
  },
  {
   "cell_type": "code",
   "execution_count": 52,
   "id": "successful-cedar",
   "metadata": {},
   "outputs": [
    {
     "data": {
      "text/plain": [
       "719"
      ]
     },
     "execution_count": 52,
     "metadata": {},
     "output_type": "execute_result"
    }
   ],
   "source": [
    "indexed.count()"
   ]
  },
  {
   "cell_type": "code",
   "execution_count": 54,
   "id": "collected-rachel",
   "metadata": {},
   "outputs": [],
   "source": [
    "encoder = OneHotEncoder().setInputCols(list(map(lambda x: x+'index', to_onehot))).setOutputCols(list(map(lambda x: x+'vec', to_parse)))"
   ]
  },
  {
   "cell_type": "code",
   "execution_count": 55,
   "id": "laughing-comfort",
   "metadata": {},
   "outputs": [],
   "source": [
    "model = encoder.fit(indexed)"
   ]
  },
  {
   "cell_type": "code",
   "execution_count": 56,
   "id": "recognized-massachusetts",
   "metadata": {},
   "outputs": [],
   "source": [
    "done = model.transform(indexed)"
   ]
  },
  {
   "cell_type": "code",
   "execution_count": 58,
   "id": "unlike-luxury",
   "metadata": {},
   "outputs": [
    {
     "data": {
      "text/plain": [
       "DataFrame[summary: string, _c0: string, name: string, gender: string, eye_color: string, race: string, hair_color: string, height: string, publisher: string, skin_color: string, alignment: string, weight: string, genderindex: string, hair_colorindex: string, skin_colorindex: string, raceindex: string, eye_colorindex: string, publisherindex: string, alignmentindex: string]"
      ]
     },
     "execution_count": 58,
     "metadata": {},
     "output_type": "execute_result"
    }
   ],
   "source": [
    "done.describe()"
   ]
  },
  {
   "cell_type": "code",
   "execution_count": null,
   "id": "quality-office",
   "metadata": {},
   "outputs": [],
   "source": []
  }
 ],
 "metadata": {
  "kernelspec": {
   "display_name": "Python 3",
   "language": "python",
   "name": "python3"
  },
  "language_info": {
   "codemirror_mode": {
    "name": "ipython",
    "version": 3
   },
   "file_extension": ".py",
   "mimetype": "text/x-python",
   "name": "python",
   "nbconvert_exporter": "python",
   "pygments_lexer": "ipython3",
   "version": "3.8.8"
  }
 },
 "nbformat": 4,
 "nbformat_minor": 5
}
