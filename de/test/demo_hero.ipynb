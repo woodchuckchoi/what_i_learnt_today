{
 "cells": [
  {
   "cell_type": "code",
   "execution_count": 2,
   "id": "massive-strap",
   "metadata": {},
   "outputs": [],
   "source": [
    "from pyspark import SparkContext as sc\n",
    "from pyspark.sql import SparkSession as ss"
   ]
  },
  {
   "cell_type": "code",
   "execution_count": 3,
   "id": "herbal-submission",
   "metadata": {},
   "outputs": [],
   "source": [
    "sc = sc()\n",
    "ss = ss(sc)"
   ]
  },
  {
   "cell_type": "code",
   "execution_count": 4,
   "id": "hawaiian-lending",
   "metadata": {},
   "outputs": [],
   "source": [
    "sup1 = ss.read.csv('file:///etc/dataset/superhero.csv', inferSchema=True, header=True)"
   ]
  },
  {
   "cell_type": "code",
   "execution_count": 6,
   "id": "institutional-sponsorship",
   "metadata": {},
   "outputs": [
    {
     "data": {
      "text/plain": [
       "DataFrame[summary: string, _c0: string, name: string, Gender: string, Eye color: string, Race: string, Hair color: string, Height: string, Publisher: string, Skin color: string, Alignment: string, Weight: string]"
      ]
     },
     "execution_count": 6,
     "metadata": {},
     "output_type": "execute_result"
    }
   ],
   "source": [
    "sup1.describe()"
   ]
  },
  {
   "cell_type": "code",
   "execution_count": 21,
   "id": "medical-charleston",
   "metadata": {},
   "outputs": [],
   "source": [
    "new_df = sup1.withColumnRenamed('Eye color', 'eye_color').withColumnRenamed('Hair color', 'hair_color').withColumnRenamed('Skin color', 'skin_color')"
   ]
  },
  {
   "cell_type": "code",
   "execution_count": 22,
   "id": "demonstrated-legend",
   "metadata": {},
   "outputs": [
    {
     "data": {
      "text/plain": [
       "DataFrame[summary: string, _c0: string, name: string, Gender: string, eye_color: string, Race: string, hair_color: string, Height: string, Publisher: string, skin_color: string, Alignment: string, Weight: string]"
      ]
     },
     "execution_count": 22,
     "metadata": {},
     "output_type": "execute_result"
    }
   ],
   "source": [
    "new_df.describe()"
   ]
  },
  {
   "cell_type": "code",
   "execution_count": 23,
   "id": "finished-setup",
   "metadata": {},
   "outputs": [],
   "source": [
    "new_df.write.parquet('/etc/dataset/superhero.parquet')"
   ]
  },
  {
   "cell_type": "code",
   "execution_count": 24,
   "id": "conscious-robinson",
   "metadata": {},
   "outputs": [],
   "source": [
    "from_parquet = ss.read.parquet('file:///etc/dataset/superhero.parquet')"
   ]
  },
  {
   "cell_type": "code",
   "execution_count": 25,
   "id": "demonstrated-vietnam",
   "metadata": {},
   "outputs": [
    {
     "data": {
      "text/plain": [
       "DataFrame[summary: string, _c0: string, name: string, Gender: string, eye_color: string, Race: string, hair_color: string, Height: string, Publisher: string, skin_color: string, Alignment: string, Weight: string]"
      ]
     },
     "execution_count": 25,
     "metadata": {},
     "output_type": "execute_result"
    }
   ],
   "source": [
    "from_parquet.describe()"
   ]
  },
  {
   "cell_type": "code",
   "execution_count": 28,
   "id": "excess-baltimore",
   "metadata": {},
   "outputs": [
    {
     "data": {
      "text/plain": [
       "['_c0',\n",
       " 'name',\n",
       " 'Gender',\n",
       " 'eye_color',\n",
       " 'Race',\n",
       " 'hair_color',\n",
       " 'Height',\n",
       " 'Publisher',\n",
       " 'skin_color',\n",
       " 'Alignment',\n",
       " 'Weight']"
      ]
     },
     "execution_count": 28,
     "metadata": {},
     "output_type": "execute_result"
    }
   ],
   "source": [
    "from_parquet.columns"
   ]
  },
  {
   "cell_type": "code",
   "execution_count": 29,
   "id": "reasonable-depression",
   "metadata": {},
   "outputs": [],
   "source": [
    "for column in from_parquet.columns:\n",
    "    from_parquet = from_parquet.withColumnRenamed(column, column.lower().replace(' ', '_'))"
   ]
  },
  {
   "cell_type": "code",
   "execution_count": 30,
   "id": "exterior-merchant",
   "metadata": {},
   "outputs": [
    {
     "data": {
      "text/plain": [
       "DataFrame[summary: string, _c0: string, name: string, gender: string, eye_color: string, race: string, hair_color: string, height: string, publisher: string, skin_color: string, alignment: string, weight: string]"
      ]
     },
     "execution_count": 30,
     "metadata": {},
     "output_type": "execute_result"
    }
   ],
   "source": [
    "from_parquet.describe()"
   ]
  },
  {
   "cell_type": "code",
   "execution_count": 36,
   "id": "noticed-instrument",
   "metadata": {},
   "outputs": [],
   "source": [
    "from pyspark.ml.feature import StringIndexer"
   ]
  },
  {
   "cell_type": "code",
   "execution_count": 31,
   "id": "sustained-seattle",
   "metadata": {},
   "outputs": [],
   "source": [
    "from pyspark.ml.feature import OneHotEncoder"
   ]
  },
  {
   "cell_type": "code",
   "execution_count": 37,
   "id": "quantitative-arbitration",
   "metadata": {},
   "outputs": [],
   "source": [
    "to_parse = ['gender', 'eye_color', 'race', 'hair_color', 'publisher', 'skin_color', 'alignment']"
   ]
  },
  {
   "cell_type": "code",
   "execution_count": 44,
   "id": "widespread-simple",
   "metadata": {},
   "outputs": [],
   "source": [
    "from_parquet = from_parquet.dropna()"
   ]
  },
  {
   "cell_type": "code",
   "execution_count": 45,
   "id": "north-ancient",
   "metadata": {},
   "outputs": [],
   "source": [
    "indexer = StringIndexer(inputCols=to_parse, outputCols=list(map(lambda x: x+'index', to_parse)))"
   ]
  },
  {
   "cell_type": "code",
   "execution_count": 46,
   "id": "indian-revelation",
   "metadata": {},
   "outputs": [],
   "source": [
    "indexed = indexer.fit(from_parquet).transform(from_parquet)"
   ]
  },
  {
   "cell_type": "code",
   "execution_count": 47,
   "id": "environmental-medium",
   "metadata": {},
   "outputs": [
    {
     "data": {
      "text/plain": [
       "DataFrame[summary: string, _c0: string, name: string, gender: string, eye_color: string, race: string, hair_color: string, height: string, publisher: string, skin_color: string, alignment: string, weight: string, genderindex: string, hair_colorindex: string, skin_colorindex: string, raceindex: string, eye_colorindex: string, publisherindex: string, alignmentindex: string]"
      ]
     },
     "execution_count": 47,
     "metadata": {},
     "output_type": "execute_result"
    }
   ],
   "source": [
    "indexed.describe()"
   ]
  },
  {
   "cell_type": "code",
   "execution_count": 52,
   "id": "successful-cedar",
   "metadata": {},
   "outputs": [
    {
     "data": {
      "text/plain": [
       "719"
      ]
     },
     "execution_count": 52,
     "metadata": {},
     "output_type": "execute_result"
    }
   ],
   "source": [
    "indexed.count()"
   ]
  },
  {
   "cell_type": "code",
   "execution_count": 54,
   "id": "collected-rachel",
   "metadata": {},
   "outputs": [],
   "source": [
    "encoder = OneHotEncoder().setInputCols(list(map(lambda x: x+'index', to_onehot))).setOutputCols(list(map(lambda x: x+'vec', to_parse)))"
   ]
  },
  {
   "cell_type": "code",
   "execution_count": 55,
   "id": "laughing-comfort",
   "metadata": {},
   "outputs": [],
   "source": [
    "model = encoder.fit(indexed)"
   ]
  },
  {
   "cell_type": "code",
   "execution_count": 56,
   "id": "recognized-massachusetts",
   "metadata": {},
   "outputs": [],
   "source": [
    "done = model.transform(indexed)"
   ]
  },
  {
   "cell_type": "code",
   "execution_count": 58,
   "id": "unlike-luxury",
   "metadata": {},
   "outputs": [
    {
     "data": {
      "text/plain": [
       "DataFrame[summary: string, _c0: string, name: string, gender: string, eye_color: string, race: string, hair_color: string, height: string, publisher: string, skin_color: string, alignment: string, weight: string, genderindex: string, hair_colorindex: string, skin_colorindex: string, raceindex: string, eye_colorindex: string, publisherindex: string, alignmentindex: string]"
      ]
     },
     "execution_count": 58,
     "metadata": {},
     "output_type": "execute_result"
    }
   ],
   "source": [
    "done.describe()"
   ]
  },
  {
   "cell_type": "code",
   "execution_count": 59,
   "id": "quality-office",
   "metadata": {},
   "outputs": [
    {
     "name": "stdout",
     "output_type": "stream",
     "text": [
      "+---+-----------------+------+---------+-----------------+----------+------+-----------------+----------+---------+------+-----------+---------------+---------------+---------+--------------+--------------+--------------+--------------+---------------+--------------+-------------+---------------+-------------+---------------+\n",
      "|_c0|             name|gender|eye_color|             race|hair_color|height|        publisher|skin_color|alignment|weight|genderindex|hair_colorindex|skin_colorindex|raceindex|eye_colorindex|publisherindex|alignmentindex|  eye_colorvec|   publishervec| hair_colorvec|    gendervec|        racevec| alignmentvec|  skin_colorvec|\n",
      "+---+-----------------+------+---------+-----------------+----------+------+-----------------+----------+---------+------+-----------+---------------+---------------+---------+--------------+--------------+--------------+--------------+---------------+--------------+-------------+---------------+-------------+---------------+\n",
      "|  0|           A-Bomb|  Male|   yellow|            Human|   No Hair| 203.0|    Marvel Comics|         -|     good| 441.0|        0.0|            4.0|            0.0|      1.0|           6.0|           0.0|           0.0|(22,[6],[1.0])| (23,[0],[1.0])|(29,[4],[1.0])|(2,[0],[1.0])| (60,[1],[1.0])|(3,[0],[1.0])| (16,[0],[1.0])|\n",
      "|  1|       Abe Sapien|  Male|     blue|    Icthyo Sapien|   No Hair| 191.0|Dark Horse Comics|      blue|     good|  65.0|        0.0|            4.0|            2.0|     40.0|           0.0|           3.0|           0.0|(22,[0],[1.0])| (23,[3],[1.0])|(29,[4],[1.0])|(2,[0],[1.0])|(60,[40],[1.0])|(3,[0],[1.0])| (16,[2],[1.0])|\n",
      "|  2|         Abin Sur|  Male|     blue|          Ungaran|   No Hair| 185.0|        DC Comics|       red|     good|  90.0|        0.0|            4.0|            3.0|     55.0|           0.0|           1.0|           0.0|(22,[0],[1.0])| (23,[1],[1.0])|(29,[4],[1.0])|(2,[0],[1.0])|(60,[55],[1.0])|(3,[0],[1.0])| (16,[3],[1.0])|\n",
      "|  3|      Abomination|  Male|    green|Human / Radiation|   No Hair| 203.0|    Marvel Comics|         -|      bad| 441.0|        0.0|            4.0|            0.0|      4.0|           3.0|           0.0|           1.0|(22,[3],[1.0])| (23,[0],[1.0])|(29,[4],[1.0])|(2,[0],[1.0])| (60,[4],[1.0])|(3,[1],[1.0])| (16,[0],[1.0])|\n",
      "|  4|          Abraxas|  Male|     blue|    Cosmic Entity|     Black| -99.0|    Marvel Comics|         -|      bad| -99.0|        0.0|            1.0|            0.0|     14.0|           0.0|           0.0|           1.0|(22,[0],[1.0])| (23,[0],[1.0])|(29,[1],[1.0])|(2,[0],[1.0])|(60,[14],[1.0])|(3,[1],[1.0])| (16,[0],[1.0])|\n",
      "|  5|    Absorbing Man|  Male|     blue|            Human|   No Hair| 193.0|    Marvel Comics|         -|      bad| 122.0|        0.0|            4.0|            0.0|      1.0|           0.0|           0.0|           1.0|(22,[0],[1.0])| (23,[0],[1.0])|(29,[4],[1.0])|(2,[0],[1.0])| (60,[1],[1.0])|(3,[1],[1.0])| (16,[0],[1.0])|\n",
      "|  6|      Adam Monroe|  Male|     blue|                -|     Blond| -99.0|     NBC - Heroes|         -|     good| -99.0|        0.0|            2.0|            0.0|      0.0|           0.0|           2.0|           0.0|(22,[0],[1.0])| (23,[2],[1.0])|(29,[2],[1.0])|(2,[0],[1.0])| (60,[0],[1.0])|(3,[0],[1.0])| (16,[0],[1.0])|\n",
      "|  7|     Adam Strange|  Male|     blue|            Human|     Blond| 185.0|        DC Comics|         -|     good|  88.0|        0.0|            2.0|            0.0|      1.0|           0.0|           1.0|           0.0|(22,[0],[1.0])| (23,[1],[1.0])|(29,[2],[1.0])|(2,[0],[1.0])| (60,[1],[1.0])|(3,[0],[1.0])| (16,[0],[1.0])|\n",
      "|  8|         Agent 13|Female|     blue|                -|     Blond| 173.0|    Marvel Comics|         -|     good|  61.0|        1.0|            2.0|            0.0|      0.0|           0.0|           0.0|           0.0|(22,[0],[1.0])| (23,[0],[1.0])|(29,[2],[1.0])|(2,[1],[1.0])| (60,[0],[1.0])|(3,[0],[1.0])| (16,[0],[1.0])|\n",
      "|  9|        Agent Bob|  Male|    brown|            Human|     Brown| 178.0|    Marvel Comics|         -|     good|  81.0|        0.0|            3.0|            0.0|      1.0|           2.0|           0.0|           0.0|(22,[2],[1.0])| (23,[0],[1.0])|(29,[3],[1.0])|(2,[0],[1.0])| (60,[1],[1.0])|(3,[0],[1.0])| (16,[0],[1.0])|\n",
      "| 10|       Agent Zero|  Male|        -|                -|         -| 191.0|    Marvel Comics|         -|     good| 104.0|        0.0|            0.0|            0.0|      0.0|           1.0|           0.0|           0.0|(22,[1],[1.0])| (23,[0],[1.0])|(29,[0],[1.0])|(2,[0],[1.0])| (60,[0],[1.0])|(3,[0],[1.0])| (16,[0],[1.0])|\n",
      "| 11|       Air-Walker|  Male|     blue|                -|     White| 188.0|    Marvel Comics|         -|      bad| 108.0|        0.0|            6.0|            0.0|      0.0|           0.0|           0.0|           1.0|(22,[0],[1.0])| (23,[0],[1.0])|(29,[6],[1.0])|(2,[0],[1.0])| (60,[0],[1.0])|(3,[1],[1.0])| (16,[0],[1.0])|\n",
      "| 12|             Ajax|  Male|    brown|           Cyborg|     Black| 193.0|    Marvel Comics|         -|      bad|  90.0|        0.0|            1.0|            0.0|      5.0|           2.0|           0.0|           1.0|(22,[2],[1.0])| (23,[0],[1.0])|(29,[1],[1.0])|(2,[0],[1.0])| (60,[5],[1.0])|(3,[1],[1.0])| (16,[0],[1.0])|\n",
      "| 13|       Alan Scott|  Male|     blue|                -|     Blond| 180.0|        DC Comics|         -|     good|  90.0|        0.0|            2.0|            0.0|      0.0|           0.0|           1.0|           0.0|(22,[0],[1.0])| (23,[1],[1.0])|(29,[2],[1.0])|(2,[0],[1.0])| (60,[0],[1.0])|(3,[0],[1.0])| (16,[0],[1.0])|\n",
      "| 14|      Alex Mercer|  Male|        -|            Human|         -| -99.0|        Wildstorm|         -|      bad| -99.0|        0.0|            0.0|            0.0|      1.0|           1.0|          14.0|           1.0|(22,[1],[1.0])|(23,[14],[1.0])|(29,[0],[1.0])|(2,[0],[1.0])| (60,[1],[1.0])|(3,[1],[1.0])| (16,[0],[1.0])|\n",
      "| 15|     Alex Woolsly|  Male|        -|                -|         -| -99.0|     NBC - Heroes|         -|     good| -99.0|        0.0|            0.0|            0.0|      0.0|           1.0|           2.0|           0.0|(22,[1],[1.0])| (23,[2],[1.0])|(29,[0],[1.0])|(2,[0],[1.0])| (60,[0],[1.0])|(3,[0],[1.0])| (16,[0],[1.0])|\n",
      "| 16|Alfred Pennyworth|  Male|     blue|            Human|     Black| 178.0|        DC Comics|         -|     good|  72.0|        0.0|            1.0|            0.0|      1.0|           0.0|           1.0|           0.0|(22,[0],[1.0])| (23,[1],[1.0])|(29,[1],[1.0])|(2,[0],[1.0])| (60,[1],[1.0])|(3,[0],[1.0])| (16,[0],[1.0])|\n",
      "| 17|            Alien|  Male|        -|  Xenomorph XX121|   No Hair| 244.0|Dark Horse Comics|     black|      bad| 169.0|        0.0|            4.0|           11.0|     56.0|           1.0|           3.0|           1.0|(22,[1],[1.0])| (23,[3],[1.0])|(29,[4],[1.0])|(2,[0],[1.0])|(60,[56],[1.0])|(3,[1],[1.0])|(16,[11],[1.0])|\n",
      "| 18| Allan Quatermain|  Male|        -|                -|         -| -99.0|        Wildstorm|         -|     good| -99.0|        0.0|            0.0|            0.0|      0.0|           1.0|          14.0|           0.0|(22,[1],[1.0])|(23,[14],[1.0])|(29,[0],[1.0])|(2,[0],[1.0])| (60,[0],[1.0])|(3,[0],[1.0])| (16,[0],[1.0])|\n",
      "| 19|            Amazo|  Male|      red|          Android|         -| 257.0|        DC Comics|         -|      bad| 173.0|        0.0|            0.0|            0.0|      6.0|           4.0|           1.0|           1.0|(22,[4],[1.0])| (23,[1],[1.0])|(29,[0],[1.0])|(2,[0],[1.0])| (60,[6],[1.0])|(3,[1],[1.0])| (16,[0],[1.0])|\n",
      "+---+-----------------+------+---------+-----------------+----------+------+-----------------+----------+---------+------+-----------+---------------+---------------+---------+--------------+--------------+--------------+--------------+---------------+--------------+-------------+---------------+-------------+---------------+\n",
      "only showing top 20 rows\n",
      "\n"
     ]
    }
   ],
   "source": [
    "done.show()"
   ]
  },
  {
   "cell_type": "code",
   "execution_count": 60,
   "id": "romantic-copper",
   "metadata": {},
   "outputs": [
    {
     "data": {
      "text/plain": [
       "719"
      ]
     },
     "execution_count": 60,
     "metadata": {},
     "output_type": "execute_result"
    }
   ],
   "source": [
    "done.count()"
   ]
  },
  {
   "cell_type": "code",
   "execution_count": 63,
   "id": "burning-dressing",
   "metadata": {},
   "outputs": [
    {
     "data": {
      "text/plain": [
       "DataFrame[summary: string, _c0: string, name: string, gender: string, eye_color: string, race: string, hair_color: string, height: string, publisher: string, skin_color: string, alignment: string, weight: string, genderindex: string, hair_colorindex: string, skin_colorindex: string, raceindex: string, eye_colorindex: string, publisherindex: string, alignmentindex: string]"
      ]
     },
     "execution_count": 63,
     "metadata": {},
     "output_type": "execute_result"
    }
   ],
   "source": [
    "done.describe()"
   ]
  },
  {
   "cell_type": "code",
   "execution_count": 73,
   "id": "colored-sheriff",
   "metadata": {},
   "outputs": [],
   "source": [
    "idx = ss.createDataFrame(zip(range(719), map(lambda x: chr(x), range(97, 97+719))), schema=['idx', 'alpha'])"
   ]
  },
  {
   "cell_type": "code",
   "execution_count": 74,
   "id": "round-front",
   "metadata": {},
   "outputs": [
    {
     "name": "stdout",
     "output_type": "stream",
     "text": [
      "+---+-----+\n",
      "|idx|alpha|\n",
      "+---+-----+\n",
      "|  0|    a|\n",
      "|  1|    b|\n",
      "|  2|    c|\n",
      "|  3|    d|\n",
      "|  4|    e|\n",
      "|  5|    f|\n",
      "|  6|    g|\n",
      "|  7|    h|\n",
      "|  8|    i|\n",
      "|  9|    j|\n",
      "| 10|    k|\n",
      "| 11|    l|\n",
      "| 12|    m|\n",
      "| 13|    n|\n",
      "| 14|    o|\n",
      "| 15|    p|\n",
      "| 16|    q|\n",
      "| 17|    r|\n",
      "| 18|    s|\n",
      "| 19|    t|\n",
      "+---+-----+\n",
      "only showing top 20 rows\n",
      "\n"
     ]
    }
   ],
   "source": [
    "idx.show()"
   ]
  },
  {
   "cell_type": "code",
   "execution_count": 81,
   "id": "complex-democrat",
   "metadata": {},
   "outputs": [
    {
     "name": "stdout",
     "output_type": "stream",
     "text": [
      "+---+-----+-----------------+------+---------+-----------------+----------+------+-----------------+----------+---------+------+-----------+---------------+---------------+---------+--------------+--------------+--------------+--------------+---------------+--------------+-------------+---------------+-------------+---------------+\n",
      "|idx|alpha|             name|gender|eye_color|             race|hair_color|height|        publisher|skin_color|alignment|weight|genderindex|hair_colorindex|skin_colorindex|raceindex|eye_colorindex|publisherindex|alignmentindex|  eye_colorvec|   publishervec| hair_colorvec|    gendervec|        racevec| alignmentvec|  skin_colorvec|\n",
      "+---+-----+-----------------+------+---------+-----------------+----------+------+-----------------+----------+---------+------+-----------+---------------+---------------+---------+--------------+--------------+--------------+--------------+---------------+--------------+-------------+---------------+-------------+---------------+\n",
      "|  0|    a|           A-Bomb|  Male|   yellow|            Human|   No Hair| 203.0|    Marvel Comics|         -|     good| 441.0|        0.0|            4.0|            0.0|      1.0|           6.0|           0.0|           0.0|(22,[6],[1.0])| (23,[0],[1.0])|(29,[4],[1.0])|(2,[0],[1.0])| (60,[1],[1.0])|(3,[0],[1.0])| (16,[0],[1.0])|\n",
      "|  1|    b|       Abe Sapien|  Male|     blue|    Icthyo Sapien|   No Hair| 191.0|Dark Horse Comics|      blue|     good|  65.0|        0.0|            4.0|            2.0|     40.0|           0.0|           3.0|           0.0|(22,[0],[1.0])| (23,[3],[1.0])|(29,[4],[1.0])|(2,[0],[1.0])|(60,[40],[1.0])|(3,[0],[1.0])| (16,[2],[1.0])|\n",
      "|  2|    c|         Abin Sur|  Male|     blue|          Ungaran|   No Hair| 185.0|        DC Comics|       red|     good|  90.0|        0.0|            4.0|            3.0|     55.0|           0.0|           1.0|           0.0|(22,[0],[1.0])| (23,[1],[1.0])|(29,[4],[1.0])|(2,[0],[1.0])|(60,[55],[1.0])|(3,[0],[1.0])| (16,[3],[1.0])|\n",
      "|  3|    d|      Abomination|  Male|    green|Human / Radiation|   No Hair| 203.0|    Marvel Comics|         -|      bad| 441.0|        0.0|            4.0|            0.0|      4.0|           3.0|           0.0|           1.0|(22,[3],[1.0])| (23,[0],[1.0])|(29,[4],[1.0])|(2,[0],[1.0])| (60,[4],[1.0])|(3,[1],[1.0])| (16,[0],[1.0])|\n",
      "|  4|    e|          Abraxas|  Male|     blue|    Cosmic Entity|     Black| -99.0|    Marvel Comics|         -|      bad| -99.0|        0.0|            1.0|            0.0|     14.0|           0.0|           0.0|           1.0|(22,[0],[1.0])| (23,[0],[1.0])|(29,[1],[1.0])|(2,[0],[1.0])|(60,[14],[1.0])|(3,[1],[1.0])| (16,[0],[1.0])|\n",
      "|  5|    f|    Absorbing Man|  Male|     blue|            Human|   No Hair| 193.0|    Marvel Comics|         -|      bad| 122.0|        0.0|            4.0|            0.0|      1.0|           0.0|           0.0|           1.0|(22,[0],[1.0])| (23,[0],[1.0])|(29,[4],[1.0])|(2,[0],[1.0])| (60,[1],[1.0])|(3,[1],[1.0])| (16,[0],[1.0])|\n",
      "|  6|    g|      Adam Monroe|  Male|     blue|                -|     Blond| -99.0|     NBC - Heroes|         -|     good| -99.0|        0.0|            2.0|            0.0|      0.0|           0.0|           2.0|           0.0|(22,[0],[1.0])| (23,[2],[1.0])|(29,[2],[1.0])|(2,[0],[1.0])| (60,[0],[1.0])|(3,[0],[1.0])| (16,[0],[1.0])|\n",
      "|  7|    h|     Adam Strange|  Male|     blue|            Human|     Blond| 185.0|        DC Comics|         -|     good|  88.0|        0.0|            2.0|            0.0|      1.0|           0.0|           1.0|           0.0|(22,[0],[1.0])| (23,[1],[1.0])|(29,[2],[1.0])|(2,[0],[1.0])| (60,[1],[1.0])|(3,[0],[1.0])| (16,[0],[1.0])|\n",
      "|  8|    i|         Agent 13|Female|     blue|                -|     Blond| 173.0|    Marvel Comics|         -|     good|  61.0|        1.0|            2.0|            0.0|      0.0|           0.0|           0.0|           0.0|(22,[0],[1.0])| (23,[0],[1.0])|(29,[2],[1.0])|(2,[1],[1.0])| (60,[0],[1.0])|(3,[0],[1.0])| (16,[0],[1.0])|\n",
      "|  9|    j|        Agent Bob|  Male|    brown|            Human|     Brown| 178.0|    Marvel Comics|         -|     good|  81.0|        0.0|            3.0|            0.0|      1.0|           2.0|           0.0|           0.0|(22,[2],[1.0])| (23,[0],[1.0])|(29,[3],[1.0])|(2,[0],[1.0])| (60,[1],[1.0])|(3,[0],[1.0])| (16,[0],[1.0])|\n",
      "| 10|    k|       Agent Zero|  Male|        -|                -|         -| 191.0|    Marvel Comics|         -|     good| 104.0|        0.0|            0.0|            0.0|      0.0|           1.0|           0.0|           0.0|(22,[1],[1.0])| (23,[0],[1.0])|(29,[0],[1.0])|(2,[0],[1.0])| (60,[0],[1.0])|(3,[0],[1.0])| (16,[0],[1.0])|\n",
      "| 11|    l|       Air-Walker|  Male|     blue|                -|     White| 188.0|    Marvel Comics|         -|      bad| 108.0|        0.0|            6.0|            0.0|      0.0|           0.0|           0.0|           1.0|(22,[0],[1.0])| (23,[0],[1.0])|(29,[6],[1.0])|(2,[0],[1.0])| (60,[0],[1.0])|(3,[1],[1.0])| (16,[0],[1.0])|\n",
      "| 12|    m|             Ajax|  Male|    brown|           Cyborg|     Black| 193.0|    Marvel Comics|         -|      bad|  90.0|        0.0|            1.0|            0.0|      5.0|           2.0|           0.0|           1.0|(22,[2],[1.0])| (23,[0],[1.0])|(29,[1],[1.0])|(2,[0],[1.0])| (60,[5],[1.0])|(3,[1],[1.0])| (16,[0],[1.0])|\n",
      "| 13|    n|       Alan Scott|  Male|     blue|                -|     Blond| 180.0|        DC Comics|         -|     good|  90.0|        0.0|            2.0|            0.0|      0.0|           0.0|           1.0|           0.0|(22,[0],[1.0])| (23,[1],[1.0])|(29,[2],[1.0])|(2,[0],[1.0])| (60,[0],[1.0])|(3,[0],[1.0])| (16,[0],[1.0])|\n",
      "| 14|    o|      Alex Mercer|  Male|        -|            Human|         -| -99.0|        Wildstorm|         -|      bad| -99.0|        0.0|            0.0|            0.0|      1.0|           1.0|          14.0|           1.0|(22,[1],[1.0])|(23,[14],[1.0])|(29,[0],[1.0])|(2,[0],[1.0])| (60,[1],[1.0])|(3,[1],[1.0])| (16,[0],[1.0])|\n",
      "| 15|    p|     Alex Woolsly|  Male|        -|                -|         -| -99.0|     NBC - Heroes|         -|     good| -99.0|        0.0|            0.0|            0.0|      0.0|           1.0|           2.0|           0.0|(22,[1],[1.0])| (23,[2],[1.0])|(29,[0],[1.0])|(2,[0],[1.0])| (60,[0],[1.0])|(3,[0],[1.0])| (16,[0],[1.0])|\n",
      "| 16|    q|Alfred Pennyworth|  Male|     blue|            Human|     Black| 178.0|        DC Comics|         -|     good|  72.0|        0.0|            1.0|            0.0|      1.0|           0.0|           1.0|           0.0|(22,[0],[1.0])| (23,[1],[1.0])|(29,[1],[1.0])|(2,[0],[1.0])| (60,[1],[1.0])|(3,[0],[1.0])| (16,[0],[1.0])|\n",
      "| 17|    r|            Alien|  Male|        -|  Xenomorph XX121|   No Hair| 244.0|Dark Horse Comics|     black|      bad| 169.0|        0.0|            4.0|           11.0|     56.0|           1.0|           3.0|           1.0|(22,[1],[1.0])| (23,[3],[1.0])|(29,[4],[1.0])|(2,[0],[1.0])|(60,[56],[1.0])|(3,[1],[1.0])|(16,[11],[1.0])|\n",
      "| 18|    s| Allan Quatermain|  Male|        -|                -|         -| -99.0|        Wildstorm|         -|     good| -99.0|        0.0|            0.0|            0.0|      0.0|           1.0|          14.0|           0.0|(22,[1],[1.0])|(23,[14],[1.0])|(29,[0],[1.0])|(2,[0],[1.0])| (60,[0],[1.0])|(3,[0],[1.0])| (16,[0],[1.0])|\n",
      "| 19|    t|            Amazo|  Male|      red|          Android|         -| 257.0|        DC Comics|         -|      bad| 173.0|        0.0|            0.0|            0.0|      6.0|           4.0|           1.0|           1.0|(22,[4],[1.0])| (23,[1],[1.0])|(29,[0],[1.0])|(2,[0],[1.0])| (60,[6],[1.0])|(3,[1],[1.0])| (16,[0],[1.0])|\n",
      "+---+-----+-----------------+------+---------+-----------------+----------+------+-----------------+----------+---------+------+-----------+---------------+---------------+---------+--------------+--------------+--------------+--------------+---------------+--------------+-------------+---------------+-------------+---------------+\n",
      "only showing top 20 rows\n",
      "\n"
     ]
    }
   ],
   "source": [
    "idx.join(done, on=idx.idx == done._c0).drop('_c0').show()"
   ]
  },
  {
   "cell_type": "code",
   "execution_count": 83,
   "id": "personalized-martial",
   "metadata": {},
   "outputs": [],
   "source": [
    "from pyspark.sql.functions import Column"
   ]
  },
  {
   "cell_type": "code",
   "execution_count": 85,
   "id": "every-skirt",
   "metadata": {},
   "outputs": [],
   "source": [
    "from pyspark.sql import functions as F"
   ]
  },
  {
   "cell_type": "code",
   "execution_count": 86,
   "id": "radical-pakistan",
   "metadata": {},
   "outputs": [],
   "source": [
    "from pyspark.sql import types as T"
   ]
  },
  {
   "cell_type": "code",
   "execution_count": 87,
   "id": "basic-intention",
   "metadata": {},
   "outputs": [],
   "source": [
    "def isMarvel(val):\n",
    "    if 'marvel' in val.lower():\n",
    "        return 0\n",
    "    else:\n",
    "        return 1\n",
    "    \n",
    "udfMarvel = F.udf(isMarvel, T.IntegerType())\n",
    "\n",
    "marvel_emp = done.withColumn('is_marvel', udfMarvel('publisher')).drop('publisher')"
   ]
  },
  {
   "cell_type": "code",
   "execution_count": 88,
   "id": "studied-shakespeare",
   "metadata": {},
   "outputs": [
    {
     "name": "stdout",
     "output_type": "stream",
     "text": [
      "+---+-----------------+------+---------+-----------------+----------+------+----------+---------+------+-----------+---------------+---------------+---------+--------------+--------------+--------------+--------------+---------------+--------------+-------------+---------------+-------------+---------------+---------+\n",
      "|_c0|             name|gender|eye_color|             race|hair_color|height|skin_color|alignment|weight|genderindex|hair_colorindex|skin_colorindex|raceindex|eye_colorindex|publisherindex|alignmentindex|  eye_colorvec|   publishervec| hair_colorvec|    gendervec|        racevec| alignmentvec|  skin_colorvec|is_marvel|\n",
      "+---+-----------------+------+---------+-----------------+----------+------+----------+---------+------+-----------+---------------+---------------+---------+--------------+--------------+--------------+--------------+---------------+--------------+-------------+---------------+-------------+---------------+---------+\n",
      "|  0|           A-Bomb|  Male|   yellow|            Human|   No Hair| 203.0|         -|     good| 441.0|        0.0|            4.0|            0.0|      1.0|           6.0|           0.0|           0.0|(22,[6],[1.0])| (23,[0],[1.0])|(29,[4],[1.0])|(2,[0],[1.0])| (60,[1],[1.0])|(3,[0],[1.0])| (16,[0],[1.0])|        0|\n",
      "|  1|       Abe Sapien|  Male|     blue|    Icthyo Sapien|   No Hair| 191.0|      blue|     good|  65.0|        0.0|            4.0|            2.0|     40.0|           0.0|           3.0|           0.0|(22,[0],[1.0])| (23,[3],[1.0])|(29,[4],[1.0])|(2,[0],[1.0])|(60,[40],[1.0])|(3,[0],[1.0])| (16,[2],[1.0])|        1|\n",
      "|  2|         Abin Sur|  Male|     blue|          Ungaran|   No Hair| 185.0|       red|     good|  90.0|        0.0|            4.0|            3.0|     55.0|           0.0|           1.0|           0.0|(22,[0],[1.0])| (23,[1],[1.0])|(29,[4],[1.0])|(2,[0],[1.0])|(60,[55],[1.0])|(3,[0],[1.0])| (16,[3],[1.0])|        1|\n",
      "|  3|      Abomination|  Male|    green|Human / Radiation|   No Hair| 203.0|         -|      bad| 441.0|        0.0|            4.0|            0.0|      4.0|           3.0|           0.0|           1.0|(22,[3],[1.0])| (23,[0],[1.0])|(29,[4],[1.0])|(2,[0],[1.0])| (60,[4],[1.0])|(3,[1],[1.0])| (16,[0],[1.0])|        0|\n",
      "|  4|          Abraxas|  Male|     blue|    Cosmic Entity|     Black| -99.0|         -|      bad| -99.0|        0.0|            1.0|            0.0|     14.0|           0.0|           0.0|           1.0|(22,[0],[1.0])| (23,[0],[1.0])|(29,[1],[1.0])|(2,[0],[1.0])|(60,[14],[1.0])|(3,[1],[1.0])| (16,[0],[1.0])|        0|\n",
      "|  5|    Absorbing Man|  Male|     blue|            Human|   No Hair| 193.0|         -|      bad| 122.0|        0.0|            4.0|            0.0|      1.0|           0.0|           0.0|           1.0|(22,[0],[1.0])| (23,[0],[1.0])|(29,[4],[1.0])|(2,[0],[1.0])| (60,[1],[1.0])|(3,[1],[1.0])| (16,[0],[1.0])|        0|\n",
      "|  6|      Adam Monroe|  Male|     blue|                -|     Blond| -99.0|         -|     good| -99.0|        0.0|            2.0|            0.0|      0.0|           0.0|           2.0|           0.0|(22,[0],[1.0])| (23,[2],[1.0])|(29,[2],[1.0])|(2,[0],[1.0])| (60,[0],[1.0])|(3,[0],[1.0])| (16,[0],[1.0])|        1|\n",
      "|  7|     Adam Strange|  Male|     blue|            Human|     Blond| 185.0|         -|     good|  88.0|        0.0|            2.0|            0.0|      1.0|           0.0|           1.0|           0.0|(22,[0],[1.0])| (23,[1],[1.0])|(29,[2],[1.0])|(2,[0],[1.0])| (60,[1],[1.0])|(3,[0],[1.0])| (16,[0],[1.0])|        1|\n",
      "|  8|         Agent 13|Female|     blue|                -|     Blond| 173.0|         -|     good|  61.0|        1.0|            2.0|            0.0|      0.0|           0.0|           0.0|           0.0|(22,[0],[1.0])| (23,[0],[1.0])|(29,[2],[1.0])|(2,[1],[1.0])| (60,[0],[1.0])|(3,[0],[1.0])| (16,[0],[1.0])|        0|\n",
      "|  9|        Agent Bob|  Male|    brown|            Human|     Brown| 178.0|         -|     good|  81.0|        0.0|            3.0|            0.0|      1.0|           2.0|           0.0|           0.0|(22,[2],[1.0])| (23,[0],[1.0])|(29,[3],[1.0])|(2,[0],[1.0])| (60,[1],[1.0])|(3,[0],[1.0])| (16,[0],[1.0])|        0|\n",
      "| 10|       Agent Zero|  Male|        -|                -|         -| 191.0|         -|     good| 104.0|        0.0|            0.0|            0.0|      0.0|           1.0|           0.0|           0.0|(22,[1],[1.0])| (23,[0],[1.0])|(29,[0],[1.0])|(2,[0],[1.0])| (60,[0],[1.0])|(3,[0],[1.0])| (16,[0],[1.0])|        0|\n",
      "| 11|       Air-Walker|  Male|     blue|                -|     White| 188.0|         -|      bad| 108.0|        0.0|            6.0|            0.0|      0.0|           0.0|           0.0|           1.0|(22,[0],[1.0])| (23,[0],[1.0])|(29,[6],[1.0])|(2,[0],[1.0])| (60,[0],[1.0])|(3,[1],[1.0])| (16,[0],[1.0])|        0|\n",
      "| 12|             Ajax|  Male|    brown|           Cyborg|     Black| 193.0|         -|      bad|  90.0|        0.0|            1.0|            0.0|      5.0|           2.0|           0.0|           1.0|(22,[2],[1.0])| (23,[0],[1.0])|(29,[1],[1.0])|(2,[0],[1.0])| (60,[5],[1.0])|(3,[1],[1.0])| (16,[0],[1.0])|        0|\n",
      "| 13|       Alan Scott|  Male|     blue|                -|     Blond| 180.0|         -|     good|  90.0|        0.0|            2.0|            0.0|      0.0|           0.0|           1.0|           0.0|(22,[0],[1.0])| (23,[1],[1.0])|(29,[2],[1.0])|(2,[0],[1.0])| (60,[0],[1.0])|(3,[0],[1.0])| (16,[0],[1.0])|        1|\n",
      "| 14|      Alex Mercer|  Male|        -|            Human|         -| -99.0|         -|      bad| -99.0|        0.0|            0.0|            0.0|      1.0|           1.0|          14.0|           1.0|(22,[1],[1.0])|(23,[14],[1.0])|(29,[0],[1.0])|(2,[0],[1.0])| (60,[1],[1.0])|(3,[1],[1.0])| (16,[0],[1.0])|        1|\n",
      "| 15|     Alex Woolsly|  Male|        -|                -|         -| -99.0|         -|     good| -99.0|        0.0|            0.0|            0.0|      0.0|           1.0|           2.0|           0.0|(22,[1],[1.0])| (23,[2],[1.0])|(29,[0],[1.0])|(2,[0],[1.0])| (60,[0],[1.0])|(3,[0],[1.0])| (16,[0],[1.0])|        1|\n",
      "| 16|Alfred Pennyworth|  Male|     blue|            Human|     Black| 178.0|         -|     good|  72.0|        0.0|            1.0|            0.0|      1.0|           0.0|           1.0|           0.0|(22,[0],[1.0])| (23,[1],[1.0])|(29,[1],[1.0])|(2,[0],[1.0])| (60,[1],[1.0])|(3,[0],[1.0])| (16,[0],[1.0])|        1|\n",
      "| 17|            Alien|  Male|        -|  Xenomorph XX121|   No Hair| 244.0|     black|      bad| 169.0|        0.0|            4.0|           11.0|     56.0|           1.0|           3.0|           1.0|(22,[1],[1.0])| (23,[3],[1.0])|(29,[4],[1.0])|(2,[0],[1.0])|(60,[56],[1.0])|(3,[1],[1.0])|(16,[11],[1.0])|        1|\n",
      "| 18| Allan Quatermain|  Male|        -|                -|         -| -99.0|         -|     good| -99.0|        0.0|            0.0|            0.0|      0.0|           1.0|          14.0|           0.0|(22,[1],[1.0])|(23,[14],[1.0])|(29,[0],[1.0])|(2,[0],[1.0])| (60,[0],[1.0])|(3,[0],[1.0])| (16,[0],[1.0])|        1|\n",
      "| 19|            Amazo|  Male|      red|          Android|         -| 257.0|         -|      bad| 173.0|        0.0|            0.0|            0.0|      6.0|           4.0|           1.0|           1.0|(22,[4],[1.0])| (23,[1],[1.0])|(29,[0],[1.0])|(2,[0],[1.0])| (60,[6],[1.0])|(3,[1],[1.0])| (16,[0],[1.0])|        1|\n",
      "+---+-----------------+------+---------+-----------------+----------+------+----------+---------+------+-----------+---------------+---------------+---------+--------------+--------------+--------------+--------------+---------------+--------------+-------------+---------------+-------------+---------------+---------+\n",
      "only showing top 20 rows\n",
      "\n"
     ]
    }
   ],
   "source": [
    "marvel_emp.show()"
   ]
  },
  {
   "cell_type": "code",
   "execution_count": null,
   "id": "departmental-sperm",
   "metadata": {},
   "outputs": [],
   "source": []
  }
 ],
 "metadata": {
  "kernelspec": {
   "display_name": "Python 3",
   "language": "python",
   "name": "python3"
  },
  "language_info": {
   "codemirror_mode": {
    "name": "ipython",
    "version": 3
   },
   "file_extension": ".py",
   "mimetype": "text/x-python",
   "name": "python",
   "nbconvert_exporter": "python",
   "pygments_lexer": "ipython3",
   "version": "3.8.8"
  }
 },
 "nbformat": 4,
 "nbformat_minor": 5
}
